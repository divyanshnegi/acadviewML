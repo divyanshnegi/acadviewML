# Question 1

import numpy as np

import pandas as pd

import matplotlib.pyplot as plt

import seaborn as sns

df = pd.read_csv('https://raw.githubusercontent.com/Shreyas3108/Weather/master/weather.csv')

s=pd.Series(df['MinTemp'])

sns.distplot(s)



sns.distplot(s, kde=False, rug=True)



s= pd.Series(df['MaxTemp'])

sns.kdeplot(s, shade=True)



s=pd.Series(df['MaxTemp'])

sns.distplot(s, hist=False, rug=True)



df=pd.DataFrame(df, columns=['Rainfall', 'Evaporation'])

sns.jointplot(x = 'Rainfall', y = 'Evaporation', data = df)



df.describe()



s=pd.Series(df['Evaporation'])

sns.distplot(s)



s=pd.Series(df['Evaporation'])

sns.distplot(s, kde=False, rug=True)



df=pd.read_csv('https://raw.githubusercontent.com/Shreyas3108/Weather/master/weather.csv')

df=pd.DataFrame(df, columns=['Rainfall', 'Evaporation'])

sns.jointplot(x='Rainfall', y='Evaporation', data=df, kind='kde')



tip = sns.load_dataset('tips')

sns.pairplot(tip)



sns.stripplot(x = 'day', y='total_bill', data=tip)



sns.swarmplot(x='day', y='total_bill', data=tip)



sns.boxplot(x='day', y='total_bill', data=tip, hue='time', dodge=True)



df = pd.read_csv('https://raw.githubusercontent.com/Shreyas3108/Weather/master/weather.csv')

df = pd.DataFrame(df, columns=['Temp9am', 'Temp3pm'])

with sns.axes_style('white'):

    sns.jointplot(x='Temp9am', y='Temp3pm', data=df, kind='hex')



df = pd.read_csv('https://raw.githubusercontent.com/Shreyas3108/Weather/master/weather.csv')

df = pd.DataFrame(df, columns=['Temp9am', 'Temp3pm'])

sns.jointplot(x='Temp9am', y='Temp3pm', data=df, kind='kde')



df = pd.read_csv('https://raw.githubusercontent.com/Shreyas3108/Weather/master/weather.csv')

df = pd.DataFrame(df, columns=['WindSpeed9am', 'WindSpeed3pm'])

sns.jointplot(x='WindSpeed9am', y='WindSpeed3pm', data=df, kind='kde')
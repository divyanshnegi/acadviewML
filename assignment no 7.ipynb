import pandas as pd

import numpy as np

import seaborn as sns

import matplotlib.pyplot as plt

df = pd.read_csv('https://raw.githubusercontent.com/Shreyas3108/house-price-prediction/master/kc_house_data.csv')



# Question 1

print(df.describe())


'''
Our dataset contains house sale prices and its features for homes 

sold in King County,Washington between May 2014 and May 2015.

The dataset itself consists of 21,613 examples with 19 features.

The features are: id, date, price, bedrooms, bathrooms, sqft_living,

 sqft_lot, floors, waterfront, view, grade, sqft_above, 

sqft_basement, yr_built, yr_renovated, zipcode, lat, long, 

sqft_living15, sqft_lot15. The first feature of the dataset i.e., 

id is about the ids of the houses.The first part of the data we 

examine is the Price, which is the target in our study.The mean 

number of bedrooms is just 3.3 but there is one entry with 33 

bedrooms.The median number of bathrooms is 2.25 and the mean is 2.1.

The sqft_living feature gives the total area of the living space of 

the house in square feet. The median is 1,910 square feet and the 

largest property has an area of 13,540 square feet.In the dataset 

we have 21,449 houses do not have a waterfront view and only 163 

do.View has values 0 to 4 but the vast majority (90.2%) of houses 

have a value of 0.
'''


# Question 2

print(df.isnull().sum())


'''
Missing values can be handled by using following methods:-



1)Deletion Method :- Delete the particular row or a columm if it contain maximum number of missing values.Because there is no use of keeping them.

2)Mean/Mode substitution : -Replace missing value with sample mean or mode.

3)Dummy variable adjustment :- Create an indicator for missing value.
'''


# Question 3

sns.boxplot(data=df['price'])



sns.boxplot(data=df['grade'])



sns.distplot(df['grade'])



df[['floors']].hist(figsize=(12,4))


'''
Some common strategies to handle outliers:

    
1. Drop the outlier records :- Sometimes it’s best to completely remove that record from your dataset to keep that person or event from skewing your analysis.

2. Cap your data. :-Another way to handle true outliers is to cap them.
'''


# Question 4

sns.regplot(x='sqft_living',y='price',data=df)



sns.regplot(x='sqft_lot',y='price',data=df)



sns.regplot(x='sqft_basement',y='price',data=df)



sns.stripplot(x='bedrooms', y='price',data=df)



# Question 5

sns.jointplot(x='floors', y='price',data=df, kind='kde')





num_featuresnum_feat  = list(set(df.columns)-set(['date']))

cor_mat = df[num_features].corr()

sns.heatmap(cor_mat)



sns.jointplot(x='price', y='grade',data=df, kind='scatter')



sns.lmplot('price', 'floors', data=df)



sns.regplot(data=df, x='floors',y='price',x_jitter=0.2)



# Question 6

sns.lmplot('price', 'floors', data=df)



#By this graph we can say that except 2 floor house price are same.



sns.jointplot(x='price', y='grade',data=df, kind='scatter')

#As grade of house increases the price increases.



sns.boxplot(data=df['grade'])

#This plot clearly shows as outliers and we can remove them.